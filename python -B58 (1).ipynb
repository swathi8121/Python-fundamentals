{
 "cells": [
  {
   "cell_type": "code",
   "execution_count": 1,
   "id": "a5aceec5",
   "metadata": {},
   "outputs": [
    {
     "name": "stdout",
     "output_type": "stream",
     "text": [
      "Hello all welcome to python programming world\n"
     ]
    }
   ],
   "source": [
    "print(\"Hello all welcome to python programming world\")"
   ]
  },
  {
   "cell_type": "code",
   "execution_count": null,
   "id": "e6728331",
   "metadata": {},
   "outputs": [],
   "source": [
    "Understanding varibles in python"
   ]
  },
  {
   "cell_type": "code",
   "execution_count": null,
   "id": "0e993c8e",
   "metadata": {},
   "outputs": [],
   "source": [
    "x=2\n",
    "y=3"
   ]
  },
  {
   "cell_type": "code",
   "execution_count": 7,
   "id": "016eed01",
   "metadata": {},
   "outputs": [
    {
     "name": "stdout",
     "output_type": "stream",
     "text": [
      "5\n"
     ]
    }
   ],
   "source": [
    "z = x+y\n",
    "\n",
    "print (z)"
   ]
  },
  {
   "cell_type": "code",
   "execution_count": null,
   "id": "272a3f8f",
   "metadata": {},
   "outputs": [],
   "source": [
    "Rules for declaring the variables in python"
   ]
  },
  {
   "cell_type": "code",
   "execution_count": null,
   "id": "31e24643",
   "metadata": {},
   "outputs": [],
   "source": [
    "1.No namespaces in while declaring the variable name"
   ]
  },
  {
   "cell_type": "code",
   "execution_count": 8,
   "id": "f0b9fbf7",
   "metadata": {},
   "outputs": [
    {
     "ename": "SyntaxError",
     "evalue": "invalid syntax (Temp/ipykernel_4408/3564666973.py, line 1)",
     "output_type": "error",
     "traceback": [
      "\u001b[1;36m  File \u001b[1;32m\"C:\\Users\\320021~1\\AppData\\Local\\Temp/ipykernel_4408/3564666973.py\"\u001b[1;36m, line \u001b[1;32m1\u001b[0m\n\u001b[1;33m    first name = 'swathi'\u001b[0m\n\u001b[1;37m          ^\u001b[0m\n\u001b[1;31mSyntaxError\u001b[0m\u001b[1;31m:\u001b[0m invalid syntax\n"
     ]
    }
   ],
   "source": [
    "first name = 'swathi'\n",
    "\n",
    "print(first name)"
   ]
  },
  {
   "cell_type": "code",
   "execution_count": null,
   "id": "e0da086d",
   "metadata": {},
   "outputs": [],
   "source": [
    "correct format"
   ]
  },
  {
   "cell_type": "code",
   "execution_count": 10,
   "id": "8132c027",
   "metadata": {},
   "outputs": [
    {
     "name": "stdout",
     "output_type": "stream",
     "text": [
      "swathi\n"
     ]
    }
   ],
   "source": [
    "firstname='swathi'\n",
    "\n",
    "print(firstname)"
   ]
  },
  {
   "cell_type": "code",
   "execution_count": 11,
   "id": "22c4b7fd",
   "metadata": {},
   "outputs": [
    {
     "name": "stdout",
     "output_type": "stream",
     "text": [
      "swathi\n"
     ]
    }
   ],
   "source": [
    "first_name = 'swathi'\n",
    "\n",
    "print(first_name)"
   ]
  },
  {
   "cell_type": "code",
   "execution_count": null,
   "id": "1fe110c5",
   "metadata": {},
   "outputs": [],
   "source": [
    "2.A variable name should not start with a number"
   ]
  },
  {
   "cell_type": "code",
   "execution_count": 12,
   "id": "94852417",
   "metadata": {},
   "outputs": [
    {
     "ename": "SyntaxError",
     "evalue": "invalid syntax (Temp/ipykernel_4408/2650559632.py, line 1)",
     "output_type": "error",
     "traceback": [
      "\u001b[1;36m  File \u001b[1;32m\"C:\\Users\\320021~1\\AppData\\Local\\Temp/ipykernel_4408/2650559632.py\"\u001b[1;36m, line \u001b[1;32m1\u001b[0m\n\u001b[1;33m    1name = 'swathi'\u001b[0m\n\u001b[1;37m     ^\u001b[0m\n\u001b[1;31mSyntaxError\u001b[0m\u001b[1;31m:\u001b[0m invalid syntax\n"
     ]
    }
   ],
   "source": [
    "1name = 'swathi'\n",
    "print(1name)"
   ]
  },
  {
   "cell_type": "code",
   "execution_count": 13,
   "id": "1306f258",
   "metadata": {},
   "outputs": [
    {
     "name": "stdout",
     "output_type": "stream",
     "text": [
      "swathi\n"
     ]
    }
   ],
   "source": [
    "name1 ='swathi'\n",
    "\n",
    "print(name1)"
   ]
  },
  {
   "cell_type": "code",
   "execution_count": null,
   "id": "f6f1fee0",
   "metadata": {},
   "outputs": [],
   "source": [
    "3.A varible name should not contain any special character (ex:@,#,%,$,&)"
   ]
  },
  {
   "cell_type": "code",
   "execution_count": 14,
   "id": "78e4a088",
   "metadata": {},
   "outputs": [
    {
     "ename": "SyntaxError",
     "evalue": "invalid syntax (Temp/ipykernel_4408/2262507165.py, line 1)",
     "output_type": "error",
     "traceback": [
      "\u001b[1;36m  File \u001b[1;32m\"C:\\Users\\320021~1\\AppData\\Local\\Temp/ipykernel_4408/2262507165.py\"\u001b[1;36m, line \u001b[1;32m1\u001b[0m\n\u001b[1;33m    name@ = 'swathi'\u001b[0m\n\u001b[1;37m          ^\u001b[0m\n\u001b[1;31mSyntaxError\u001b[0m\u001b[1;31m:\u001b[0m invalid syntax\n"
     ]
    }
   ],
   "source": [
    "name@ = 'swathi'\n",
    "\n",
    "print(name@)"
   ]
  },
  {
   "cell_type": "code",
   "execution_count": null,
   "id": "0db050ab",
   "metadata": {},
   "outputs": [],
   "source": [
    "Introduction to datatypes in python"
   ]
  },
  {
   "cell_type": "code",
   "execution_count": null,
   "id": "58e5f4c2",
   "metadata": {},
   "outputs": [],
   "source": [
    "1.String\n",
    "2.Number---->integer and float(decimal)\n",
    "3.List\n",
    "4.Tuple\n",
    "5.Dictionaries"
   ]
  },
  {
   "cell_type": "code",
   "execution_count": null,
   "id": "377d159e",
   "metadata": {},
   "outputs": [],
   "source": [
    "Classification of datatypes in python\n",
    "1.Mutable\n",
    "2.Immutable"
   ]
  },
  {
   "cell_type": "code",
   "execution_count": null,
   "id": "3b204c8a",
   "metadata": {},
   "outputs": [],
   "source": [
    "Mutable:we can able to edit/alter the data.It is flexible datatype\n",
    "\n",
    "Immutable:we cannot able to edit/alter the data.It is a fixed datatype"
   ]
  },
  {
   "cell_type": "code",
   "execution_count": null,
   "id": "05d31546",
   "metadata": {},
   "outputs": [],
   "source": [
    "Introduction to string Datatype"
   ]
  },
  {
   "cell_type": "code",
   "execution_count": null,
   "id": "60acd199",
   "metadata": {},
   "outputs": [],
   "source": [
    "A string is nothing but a series of character declared in quotes.\n",
    "\n",
    "Classification:It is classified as an immutable datatype (fixed datatype)"
   ]
  },
  {
   "cell_type": "code",
   "execution_count": null,
   "id": "a00d2b05",
   "metadata": {},
   "outputs": [],
   "source": [
    "How to declare the string datatype---?\n",
    "1.single quotes\n",
    "2.Double quotes\n",
    "3.Triple quotes"
   ]
  },
  {
   "cell_type": "code",
   "execution_count": null,
   "id": "266bc5ea",
   "metadata": {},
   "outputs": [],
   "source": [
    "Single Quotes"
   ]
  },
  {
   "cell_type": "code",
   "execution_count": 18,
   "id": "ede0c4ca",
   "metadata": {},
   "outputs": [
    {
     "name": "stdout",
     "output_type": "stream",
     "text": [
      "roamn\n"
     ]
    }
   ],
   "source": [
    "name1='roamn'\n",
    "\n",
    "print(name1)"
   ]
  },
  {
   "cell_type": "code",
   "execution_count": null,
   "id": "efe77ceb",
   "metadata": {
    "collapsed": true
   },
   "outputs": [],
   "source": [
    "Double Quotes"
   ]
  },
  {
   "cell_type": "code",
   "execution_count": 20,
   "id": "8040ae92",
   "metadata": {},
   "outputs": [
    {
     "name": "stdout",
     "output_type": "stream",
     "text": [
      "Aditya\n"
     ]
    }
   ],
   "source": [
    "name2=\"Aditya\"\n",
    "\n",
    "print(name2)"
   ]
  },
  {
   "cell_type": "code",
   "execution_count": null,
   "id": "1168dd33",
   "metadata": {},
   "outputs": [],
   "source": [
    "Triple Quotes"
   ]
  },
  {
   "cell_type": "code",
   "execution_count": 21,
   "id": "15a3ea0b",
   "metadata": {},
   "outputs": [
    {
     "name": "stdout",
     "output_type": "stream",
     "text": [
      "Naga Venkatesh\n"
     ]
    }
   ],
   "source": [
    "name3=\"\"\"Naga Venkatesh\"\"\"\n",
    "\n",
    "print(name3)"
   ]
  },
  {
   "cell_type": "code",
   "execution_count": null,
   "id": "888c4260",
   "metadata": {},
   "outputs": [],
   "source": [
    "Introduction to string methods"
   ]
  },
  {
   "cell_type": "code",
   "execution_count": null,
   "id": "b6181f7c",
   "metadata": {},
   "outputs": [],
   "source": [
    "Methods are built in programs that are available for use."
   ]
  },
  {
   "cell_type": "code",
   "execution_count": 29,
   "id": "bfc3fd00",
   "metadata": {},
   "outputs": [
    {
     "data": {
      "text/plain": [
       "str"
      ]
     },
     "execution_count": 29,
     "metadata": {},
     "output_type": "execute_result"
    }
   ],
   "source": [
    "name=\"str\"\n",
    "\n",
    "type(name)"
   ]
  },
  {
   "cell_type": "code",
   "execution_count": 28,
   "id": "44c9b5c7",
   "metadata": {},
   "outputs": [
    {
     "data": {
      "text/plain": [
       "str"
      ]
     },
     "execution_count": 28,
     "metadata": {},
     "output_type": "execute_result"
    }
   ],
   "source": [
    "name2=\"str\"\n",
    "\n",
    "type(name2)"
   ]
  },
  {
   "cell_type": "code",
   "execution_count": 27,
   "id": "0a7f4141",
   "metadata": {},
   "outputs": [
    {
     "data": {
      "text/plain": [
       "str"
      ]
     },
     "execution_count": 27,
     "metadata": {},
     "output_type": "execute_result"
    }
   ],
   "source": [
    "name3=\"str\"\n",
    "\n",
    "type(name3)"
   ]
  },
  {
   "cell_type": "code",
   "execution_count": 34,
   "id": "d054b3e8",
   "metadata": {},
   "outputs": [
    {
     "name": "stdout",
     "output_type": "stream",
     "text": [
      "Nagavenkatesh\n"
     ]
    }
   ],
   "source": [
    "Fullname='Nagavenkatesh'\n",
    "\n",
    "print(Fullname)"
   ]
  },
  {
   "cell_type": "code",
   "execution_count": 41,
   "id": "522af137",
   "metadata": {},
   "outputs": [
    {
     "name": "stdout",
     "output_type": "stream",
     "text": [
      "Swathi\n"
     ]
    }
   ],
   "source": [
    "Fullname='swathi'\n",
    "\n",
    "print(Fullname.title())"
   ]
  },
  {
   "cell_type": "code",
   "execution_count": 42,
   "id": "0e35e737",
   "metadata": {},
   "outputs": [
    {
     "name": "stdout",
     "output_type": "stream",
     "text": [
      "SWATHI\n"
     ]
    }
   ],
   "source": [
    "Fullname='swathi'\n",
    "\n",
    "print(Fullname.upper())"
   ]
  },
  {
   "cell_type": "code",
   "execution_count": 43,
   "id": "8f622898",
   "metadata": {},
   "outputs": [
    {
     "name": "stdout",
     "output_type": "stream",
     "text": [
      "swathi\n"
     ]
    }
   ],
   "source": [
    "fullname='swathi'\n",
    "\n",
    "print(fullname.lower())"
   ]
  },
  {
   "cell_type": "code",
   "execution_count": null,
   "id": "c20d12b6",
   "metadata": {},
   "outputs": [],
   "source": [
    "# general syntax of an f strings:"
   ]
  },
  {
   "cell_type": "code",
   "execution_count": null,
   "id": "024a20b9",
   "metadata": {},
   "outputs": [],
   "source": [
    "f\"custom word {placeholder1}{placeholder2}...............{placeholder....n}\""
   ]
  },
  {
   "cell_type": "code",
   "execution_count": null,
   "id": "48e3a62d",
   "metadata": {},
   "outputs": [],
   "source": [
    "firstname='aditya'\n",
    "lastname='kumar'"
   ]
  },
  {
   "cell_type": "code",
   "execution_count": null,
   "id": "c8ced809",
   "metadata": {},
   "outputs": [],
   "source": [
    "#req:i want to get the full name....?"
   ]
  },
  {
   "cell_type": "code",
   "execution_count": 51,
   "id": "1e2d3522",
   "metadata": {},
   "outputs": [
    {
     "name": "stdout",
     "output_type": "stream",
     "text": [
      "aditya kumar\n"
     ]
    }
   ],
   "source": [
    "fullname = f\"{firstname} {lastname}\"\n",
    "\n",
    "print(fullname)"
   ]
  },
  {
   "cell_type": "code",
   "execution_count": 52,
   "id": "d2c17b23",
   "metadata": {},
   "outputs": [
    {
     "name": "stdout",
     "output_type": "stream",
     "text": [
      "Aditya Kumar\n"
     ]
    }
   ],
   "source": [
    "print(fullname.title())"
   ]
  },
  {
   "cell_type": "code",
   "execution_count": 54,
   "id": "f6114ec5",
   "metadata": {},
   "outputs": [
    {
     "name": "stdout",
     "output_type": "stream",
     "text": [
      "keep up the good work,Aditya Kumar\n"
     ]
    }
   ],
   "source": [
    "print(f\"keep up the good work,{fullname.title()}\")"
   ]
  },
  {
   "cell_type": "code",
   "execution_count": null,
   "id": "6aa0bcda",
   "metadata": {},
   "outputs": [],
   "source": [
    "Adding whitespaces to strings:"
   ]
  },
  {
   "cell_type": "code",
   "execution_count": 55,
   "id": "cfce431f",
   "metadata": {},
   "outputs": [
    {
     "name": "stdout",
     "output_type": "stream",
     "text": [
      "favourite_language:pythonc++javaswiftsql\n"
     ]
    }
   ],
   "source": [
    "print(\"favourite_language:pythonc++javaswiftsql\")"
   ]
  },
  {
   "cell_type": "code",
   "execution_count": 56,
   "id": "4532005c",
   "metadata": {},
   "outputs": [
    {
     "name": "stdout",
     "output_type": "stream",
     "text": [
      "favourite_language:\n",
      "python\n",
      "c++\n",
      "c\n",
      "java\n",
      "swift\n",
      "sql\n"
     ]
    }
   ],
   "source": [
    "print(\"favourite_language:\\npython\\nc++\\nc\\njava\\nswift\\nsql\")"
   ]
  },
  {
   "cell_type": "code",
   "execution_count": 57,
   "id": "43722787",
   "metadata": {},
   "outputs": [
    {
     "name": "stdout",
     "output_type": "stream",
     "text": [
      "favourite_language:\n",
      "\tpython\n",
      "\tc++\n",
      "\tc\n",
      "\tjava\n",
      "\tswift\n",
      "\tsql\n"
     ]
    }
   ],
   "source": [
    "print(\"favourite_language:\\n\\tpython\\n\\tc++\\n\\tc\\n\\tjava\\n\\tswift\\n\\tsql\")"
   ]
  },
  {
   "cell_type": "code",
   "execution_count": null,
   "id": "f5dd8142",
   "metadata": {},
   "outputs": [],
   "source": [
    "\\t---->tab delimiter"
   ]
  },
  {
   "cell_type": "code",
   "execution_count": null,
   "id": "adbef3b3",
   "metadata": {},
   "outputs": [],
   "source": [
    "how yo remove the whitespaces from the strings"
   ]
  },
  {
   "cell_type": "code",
   "execution_count": 58,
   "id": "7aa07534",
   "metadata": {},
   "outputs": [
    {
     "name": "stdout",
     "output_type": "stream",
     "text": [
      "python\n"
     ]
    }
   ],
   "source": [
    "name='python'\n",
    "print(name)"
   ]
  },
  {
   "cell_type": "code",
   "execution_count": 60,
   "id": "e7538819",
   "metadata": {},
   "outputs": [
    {
     "name": "stdout",
     "output_type": "stream",
     "text": [
      "  java\n"
     ]
    }
   ],
   "source": [
    "name2='  java'\n",
    "print(name2)"
   ]
  },
  {
   "cell_type": "code",
   "execution_count": 61,
   "id": "010fbd9e",
   "metadata": {},
   "outputs": [
    {
     "name": "stdout",
     "output_type": "stream",
     "text": [
      "sql.   \n"
     ]
    }
   ],
   "source": [
    "name3=\"sql.   \"\n",
    "print(name3)"
   ]
  },
  {
   "cell_type": "code",
   "execution_count": 62,
   "id": "a29e5fa3",
   "metadata": {},
   "outputs": [
    {
     "data": {
      "text/plain": [
       "'java'"
      ]
     },
     "execution_count": 62,
     "metadata": {},
     "output_type": "execute_result"
    }
   ],
   "source": [
    "name2.lstrip()"
   ]
  },
  {
   "cell_type": "code",
   "execution_count": 63,
   "id": "24fb5cd2",
   "metadata": {},
   "outputs": [
    {
     "data": {
      "text/plain": [
       "'sql.'"
      ]
     },
     "execution_count": 63,
     "metadata": {},
     "output_type": "execute_result"
    }
   ],
   "source": [
    "name3.rstrip()"
   ]
  },
  {
   "cell_type": "code",
   "execution_count": null,
   "id": "580b713a",
   "metadata": {},
   "outputs": [],
   "source": []
  }
 ],
 "metadata": {
  "kernelspec": {
   "display_name": "Python 3 (ipykernel)",
   "language": "python",
   "name": "python3"
  },
  "language_info": {
   "codemirror_mode": {
    "name": "ipython",
    "version": 3
   },
   "file_extension": ".py",
   "mimetype": "text/x-python",
   "name": "python",
   "nbconvert_exporter": "python",
   "pygments_lexer": "ipython3",
   "version": "3.9.7"
  }
 },
 "nbformat": 4,
 "nbformat_minor": 5
}
