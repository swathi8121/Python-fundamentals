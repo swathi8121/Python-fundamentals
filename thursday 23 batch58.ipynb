{
 "cells": [
  {
   "cell_type": "code",
   "execution_count": null,
   "id": "c4c3103e",
   "metadata": {},
   "outputs": [],
   "source": [
    "Introduction to list data type"
   ]
  },
  {
   "cell_type": "code",
   "execution_count": null,
   "id": "daa7ea87",
   "metadata": {},
   "outputs": [],
   "source": [
    "Definition:A list is a collection of items declared in a particular order\n",
    "    \n",
    "Classification:It is  classified as a mutable datatype\n",
    "    \n",
    "how to declare the list......? []"
   ]
  },
  {
   "cell_type": "code",
   "execution_count": null,
   "id": "873ac695",
   "metadata": {},
   "outputs": [],
   "source": []
  },
  {
   "cell_type": "code",
   "execution_count": 18,
   "id": "71fd0633",
   "metadata": {},
   "outputs": [],
   "source": [
    "students = ['santosh','iqra','ramya','naveen','deepthi','adi']  #0,1,2,3,4,5"
   ]
  },
  {
   "cell_type": "code",
   "execution_count": 19,
   "id": "52afdd8c",
   "metadata": {},
   "outputs": [
    {
     "name": "stdout",
     "output_type": "stream",
     "text": [
      "['santosh', 'iqra', 'ramya', 'naveen', 'deepthi', 'adi']\n"
     ]
    }
   ],
   "source": [
    "print(students)"
   ]
  },
  {
   "cell_type": "code",
   "execution_count": null,
   "id": "596fa124",
   "metadata": {},
   "outputs": [],
   "source": []
  },
  {
   "cell_type": "code",
   "execution_count": null,
   "id": "da8f83a7",
   "metadata": {},
   "outputs": [],
   "source": [
    "introduction to indexing :0,1,2,3,4.....!"
   ]
  },
  {
   "cell_type": "code",
   "execution_count": null,
   "id": "dc0ff4c3",
   "metadata": {},
   "outputs": [],
   "source": []
  },
  {
   "cell_type": "code",
   "execution_count": null,
   "id": "d01bd6a5",
   "metadata": {},
   "outputs": [],
   "source": [
    "# req : i want to get the name of naveen in the outpt....?"
   ]
  },
  {
   "cell_type": "code",
   "execution_count": 21,
   "id": "63fc3ad1",
   "metadata": {},
   "outputs": [
    {
     "name": "stdout",
     "output_type": "stream",
     "text": [
      "naveen\n"
     ]
    }
   ],
   "source": [
    "print(students[3])"
   ]
  },
  {
   "cell_type": "code",
   "execution_count": null,
   "id": "fcb2bbfe",
   "metadata": {},
   "outputs": [],
   "source": [
    "# req : i want to get the name of adi in the outpt....?"
   ]
  },
  {
   "cell_type": "code",
   "execution_count": 22,
   "id": "82fb510c",
   "metadata": {},
   "outputs": [
    {
     "name": "stdout",
     "output_type": "stream",
     "text": [
      "adi\n"
     ]
    }
   ],
   "source": [
    "print(students[5])"
   ]
  },
  {
   "cell_type": "code",
   "execution_count": 23,
   "id": "c7334b52",
   "metadata": {},
   "outputs": [
    {
     "name": "stdout",
     "output_type": "stream",
     "text": [
      "Adi\n"
     ]
    }
   ],
   "source": [
    "print(students[5].title())"
   ]
  },
  {
   "cell_type": "code",
   "execution_count": null,
   "id": "44609066",
   "metadata": {},
   "outputs": [],
   "source": [
    "1.how to add new elements to the list\n",
    "2.how to modify the elements to the list\n",
    "3.how to delete the elements in the list..?"
   ]
  },
  {
   "cell_type": "code",
   "execution_count": null,
   "id": "9c2bf378",
   "metadata": {},
   "outputs": [],
   "source": [
    "# req : i want to add swathi to the above list....?"
   ]
  },
  {
   "cell_type": "code",
   "execution_count": 42,
   "id": "be3b2a33",
   "metadata": {},
   "outputs": [],
   "source": [
    "students.append('swathi')"
   ]
  },
  {
   "cell_type": "code",
   "execution_count": 43,
   "id": "26a7de20",
   "metadata": {},
   "outputs": [
    {
     "name": "stdout",
     "output_type": "stream",
     "text": [
      "['ravi', 'iqra', 'ramya', 'naveen', 'deepthi', 'adi', 'swathi', 'swathi', 'swathi', 'swathi', 'swathi']\n"
     ]
    }
   ],
   "source": [
    "print(students)"
   ]
  },
  {
   "cell_type": "code",
   "execution_count": null,
   "id": "a15adfe0",
   "metadata": {},
   "outputs": [],
   "source": [
    "# req : i want to add anjalito the above list....?"
   ]
  },
  {
   "cell_type": "code",
   "execution_count": 44,
   "id": "b64701ae",
   "metadata": {},
   "outputs": [],
   "source": [
    "students.insert(2,'anjali')"
   ]
  },
  {
   "cell_type": "code",
   "execution_count": 45,
   "id": "13d2ad2a",
   "metadata": {},
   "outputs": [
    {
     "name": "stdout",
     "output_type": "stream",
     "text": [
      "['ravi', 'iqra', 'anjali', 'ramya', 'naveen', 'deepthi', 'adi', 'swathi', 'swathi', 'swathi', 'swathi', 'swathi']\n"
     ]
    }
   ],
   "source": [
    "print(students)"
   ]
  },
  {
   "cell_type": "code",
   "execution_count": 46,
   "id": "13cca2f5",
   "metadata": {},
   "outputs": [
    {
     "name": "stdout",
     "output_type": "stream",
     "text": [
      "anjali\n"
     ]
    }
   ],
   "source": [
    "print(students[2])"
   ]
  },
  {
   "cell_type": "code",
   "execution_count": null,
   "id": "4e86a87a",
   "metadata": {},
   "outputs": [],
   "source": [
    "tell me the diff b/w append and insert method in a list....?"
   ]
  },
  {
   "cell_type": "code",
   "execution_count": null,
   "id": "521a2eb0",
   "metadata": {},
   "outputs": [],
   "source": []
  },
  {
   "cell_type": "code",
   "execution_count": null,
   "id": "1174025a",
   "metadata": {},
   "outputs": [],
   "source": [
    "how to modify the elements to the list....?"
   ]
  },
  {
   "cell_type": "code",
   "execution_count": 48,
   "id": "57b1567a",
   "metadata": {},
   "outputs": [
    {
     "name": "stdout",
     "output_type": "stream",
     "text": [
      "['ravi', 'iqra', 'anjali', 'ramya', 'naveen', 'deepthi', 'adi', 'swathi', 'swathi', 'swathi', 'swathi', 'swathi']\n"
     ]
    }
   ],
   "source": [
    "print(students)"
   ]
  },
  {
   "cell_type": "code",
   "execution_count": null,
   "id": "fa865f5a",
   "metadata": {},
   "outputs": [],
   "source": []
  },
  {
   "cell_type": "code",
   "execution_count": null,
   "id": "6175ead5",
   "metadata": {},
   "outputs": [],
   "source": [
    "# req : i want to modify the name of santosh to ravi....?"
   ]
  },
  {
   "cell_type": "code",
   "execution_count": 35,
   "id": "63214a3a",
   "metadata": {},
   "outputs": [],
   "source": [
    "students[0]='ravi'"
   ]
  },
  {
   "cell_type": "code",
   "execution_count": 49,
   "id": "939379f7",
   "metadata": {},
   "outputs": [
    {
     "name": "stdout",
     "output_type": "stream",
     "text": [
      "['ravi', 'iqra', 'anjali', 'ramya', 'naveen', 'deepthi', 'adi', 'swathi', 'swathi', 'swathi', 'swathi', 'swathi']\n"
     ]
    }
   ],
   "source": [
    "print(students)"
   ]
  },
  {
   "cell_type": "code",
   "execution_count": 50,
   "id": "944ea7e1",
   "metadata": {},
   "outputs": [
    {
     "name": "stdout",
     "output_type": "stream",
     "text": [
      "['ravi', 'iqra', 'anjali', 'ramya', 'naveen', 'deepthi', 'adi', 'swathi', 'swathi', 'swathi', 'swathi', 'swathi']\n"
     ]
    }
   ],
   "source": [
    "print(students)"
   ]
  },
  {
   "cell_type": "code",
   "execution_count": null,
   "id": "010f7cc2",
   "metadata": {},
   "outputs": [],
   "source": [
    "# i want to delete the swathi name in the above list.......?"
   ]
  },
  {
   "cell_type": "code",
   "execution_count": 52,
   "id": "a2357982",
   "metadata": {},
   "outputs": [],
   "source": [
    "del students[8]"
   ]
  },
  {
   "cell_type": "code",
   "execution_count": 53,
   "id": "62d79d4d",
   "metadata": {},
   "outputs": [
    {
     "name": "stdout",
     "output_type": "stream",
     "text": [
      "['ravi', 'iqra', 'anjali', 'ramya', 'naveen', 'deepthi', 'adi', 'swathi', 'swathi', 'swathi', 'swathi']\n"
     ]
    }
   ],
   "source": [
    "print(students)"
   ]
  },
  {
   "cell_type": "code",
   "execution_count": null,
   "id": "e716602d",
   "metadata": {},
   "outputs": [],
   "source": []
  }
 ],
 "metadata": {
  "kernelspec": {
   "display_name": "Python 3 (ipykernel)",
   "language": "python",
   "name": "python3"
  },
  "language_info": {
   "codemirror_mode": {
    "name": "ipython",
    "version": 3
   },
   "file_extension": ".py",
   "mimetype": "text/x-python",
   "name": "python",
   "nbconvert_exporter": "python",
   "pygments_lexer": "ipython3",
   "version": "3.9.7"
  }
 },
 "nbformat": 4,
 "nbformat_minor": 5
}
